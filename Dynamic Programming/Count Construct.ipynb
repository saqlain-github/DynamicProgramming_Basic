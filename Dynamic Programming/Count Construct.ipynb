{
 "cells": [
  {
   "cell_type": "code",
   "execution_count": 3,
   "id": "2cc5896b",
   "metadata": {},
   "outputs": [
    {
     "name": "stdout",
     "output_type": "stream",
     "text": [
      "1\n"
     ]
    }
   ],
   "source": [
    "def conConst(target,words):\n",
    "    if target == \"\": return 1\n",
    "    \n",
    "    totalcount = 0\n",
    "    \n",
    "    for i in words:\n",
    "        if target.startswith(i) ==  True:\n",
    "            suffix = target.removeprefix(i)\n",
    "            result = conConst(suffix, words)\n",
    "            totalcount += result\n",
    "            \n",
    "    return totalcount\n",
    "\n",
    "print(conConst(\"abcdef\",[\"ab\",\"abc\",\"cd\",\"def\",\"abcd\"]))\n",
    "#print(conConst(\"eeeeeeeeeeeeeeeeeeeeeeeeeeef\",[\"e\",\"ee\",\"eee\",\"eeee\",\"eeeee\",\"eeeee\"]))  "
   ]
  },
  {
   "cell_type": "code",
   "execution_count": 6,
   "id": "b8935abd",
   "metadata": {},
   "outputs": [
    {
     "name": "stdout",
     "output_type": "stream",
     "text": [
      "1\n",
      "1546352\n"
     ]
    }
   ],
   "source": [
    "def conConstM(target,words,d):\n",
    "    if target in d:  return d[target]\n",
    "    if target == \"\": return 1\n",
    "    \n",
    "    totalcount = 0\n",
    "    \n",
    "    for i in words:\n",
    "        if target.startswith(i) ==  True:\n",
    "            suffix = target.removeprefix(i)\n",
    "            result = conConstM(suffix, words,d)\n",
    "            totalcount += result\n",
    "\n",
    "    d[target] = totalcount\n",
    "    return totalcount\n",
    "\n",
    "d = dict()\n",
    "print(conConstM(\"abcdef\",[\"ab\",\"abc\",\"cd\",\"def\",\"abcd\"],d))\n",
    "print(conConstM(\"eeeeeeeeeeeeeeeeeeeeeeeeeeef\",[\"e\",\"ee\",\"eee\",\"eeee\",\"eeeee\",\"eeeeef\"],d)) "
   ]
  },
  {
   "cell_type": "code",
   "execution_count": 2,
   "id": "ba4aa35d",
   "metadata": {},
   "outputs": [
    {
     "name": "stdout",
     "output_type": "stream",
     "text": [
      "0\n",
      "ab\n",
      "abc\n",
      "abcd\n",
      "[1, 0, 1, 1, 1, 0, 0]\n",
      "1\n",
      "[1, 0, 1, 1, 1, 0, 0]\n",
      "2\n",
      "cd\n",
      "[1, 0, 1, 1, 2, 0, 0]\n",
      "3\n",
      "def\n",
      "[1, 0, 1, 1, 2, 0, 1]\n",
      "4\n",
      "[1, 0, 1, 1, 2, 0, 1]\n",
      "5\n",
      "[1, 0, 1, 1, 2, 0, 1]\n",
      "6\n",
      "[1, 0, 1, 1, 2, 0, 1]\n",
      "1\n",
      "0\n",
      "purp\n",
      "p\n",
      "purpl\n",
      "[1, 1, 0, 0, 1, 1, 0]\n",
      "1\n",
      "ur\n",
      "[1, 1, 0, 1, 1, 1, 0]\n",
      "2\n",
      "[1, 1, 0, 1, 1, 1, 0]\n",
      "3\n",
      "p\n",
      "[1, 1, 0, 1, 2, 1, 0]\n",
      "4\n",
      "le\n",
      "[1, 1, 0, 1, 2, 1, 2]\n",
      "5\n",
      "[1, 1, 0, 1, 2, 1, 2]\n",
      "6\n",
      "[1, 1, 0, 1, 2, 1, 2]\n",
      "2\n"
     ]
    }
   ],
   "source": [
    "def countConstT(target,words):\n",
    "    arr = [0]*(len(target)+1)\n",
    "    arr[0] = 1\n",
    "    for i in range(len(target)+1):\n",
    "        if arr[i] != 0:\n",
    "            for word in words:\n",
    "                if target[i:i+len(word)] == word:\n",
    "                    print(target[i:i+len(word)])\n",
    "                    arr[i+len(word)] += arr[i]  \n",
    "                  \n",
    "    return arr[len(target)]\n",
    "\n",
    "print(countConstT(\"abcdef\",[\"ab\",\"abc\",\"cd\",\"def\",\"abcd\"]))\n",
    "print(countConstT(\"purple\",[\"purp\",\"p\",\"ur\",\"le\",\"purpl\"]))"
   ]
  }
 ],
 "metadata": {
  "kernelspec": {
   "display_name": "Python 3 (ipykernel)",
   "language": "python",
   "name": "python3"
  },
  "language_info": {
   "codemirror_mode": {
    "name": "ipython",
    "version": 3
   },
   "file_extension": ".py",
   "mimetype": "text/x-python",
   "name": "python",
   "nbconvert_exporter": "python",
   "pygments_lexer": "ipython3",
   "version": "3.9.5"
  }
 },
 "nbformat": 4,
 "nbformat_minor": 5
}
