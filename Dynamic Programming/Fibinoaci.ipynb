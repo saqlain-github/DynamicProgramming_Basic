{
 "cells": [
  {
   "cell_type": "code",
   "execution_count": 28,
   "id": "7a2aeb5c",
   "metadata": {},
   "outputs": [
    {
     "name": "stdout",
     "output_type": "stream",
     "text": [
      "0\n",
      "1\n",
      "1\n",
      "2\n",
      "3\n",
      "5\n",
      "8\n"
     ]
    }
   ],
   "source": [
    "import numpy as np\n",
    "\n",
    "def fib(n):\n",
    "    arr = [0]*(n+2)\n",
    "    arr[1] = 1\n",
    "    for i in range(0,len(arr)-2):\n",
    "        arr[i+1] += arr[i]\n",
    "        arr[i+2] += arr[i]\n",
    "        print(arr[i+2])\n",
    "        \n",
    "    return arr[n]\n",
    "            \n",
    "print(fib(6))    "
   ]
  },
  {
   "cell_type": "code",
   "execution_count": null,
   "id": "b4750c76",
   "metadata": {},
   "outputs": [],
   "source": []
  }
 ],
 "metadata": {
  "kernelspec": {
   "display_name": "Python 3 (ipykernel)",
   "language": "python",
   "name": "python3"
  },
  "language_info": {
   "codemirror_mode": {
    "name": "ipython",
    "version": 3
   },
   "file_extension": ".py",
   "mimetype": "text/x-python",
   "name": "python",
   "nbconvert_exporter": "python",
   "pygments_lexer": "ipython3",
   "version": "3.9.5"
  }
 },
 "nbformat": 4,
 "nbformat_minor": 5
}
