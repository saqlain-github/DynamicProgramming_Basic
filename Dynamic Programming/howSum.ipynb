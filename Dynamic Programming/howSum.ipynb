{
 "cells": [
  {
   "cell_type": "markdown",
   "id": "ab001d52",
   "metadata": {},
   "source": [
    "<h1> Brute Force</h1>"
   ]
  },
  {
   "cell_type": "code",
   "execution_count": null,
   "id": "0397d972",
   "metadata": {},
   "outputs": [],
   "source": []
  },
  {
   "cell_type": "code",
   "execution_count": 4,
   "id": "1e32af9f",
   "metadata": {},
   "outputs": [
    {
     "name": "stdout",
     "output_type": "stream",
     "text": [
      "[4, 3]\n"
     ]
    }
   ],
   "source": [
    "def howSum(target, nums):\n",
    "    if target == 0 : return []\n",
    "    if target < 0 : return None\n",
    "    for  i in nums:\n",
    "        remainder = target - i\n",
    "        result = howSum(remainder,nums)\n",
    "        if result is not None :\n",
    "            #q = result\n",
    "            #q.append(i)\n",
    "            #print(q)\n",
    "            result.append(i)\n",
    "            return result\n",
    "    return None\n",
    "\n",
    "d = dict()\n",
    "print(howSum(7,[3,4]))"
   ]
  },
  {
   "cell_type": "markdown",
   "id": "72264d72",
   "metadata": {},
   "source": [
    "<h1>MEMOIZATION</h1>"
   ]
  },
  {
   "cell_type": "code",
   "execution_count": 5,
   "id": "f2fc05ba",
   "metadata": {},
   "outputs": [
    {
     "name": "stdout",
     "output_type": "stream",
     "text": [
      "[5, 5, 5, 5, 5, 5, 5, 5, 5, 5, 5, 5, 5, 5, 5, 5, 5, 5, 5, 5]\n"
     ]
    }
   ],
   "source": [
    "def howSum(target, nums,d):\n",
    "    if target in d: return d[target]\n",
    "    if target == 0 : return []\n",
    "    if target < 0 : return None\n",
    "    for  i in nums:\n",
    "        remainder = target - i\n",
    "        result = howSum(remainder,nums, d)\n",
    "        if result is not None :\n",
    "            result.append(i)\n",
    "            #print(q)\n",
    "            d[target] = result\n",
    "            return d[target]\n",
    "    d[target] = None\n",
    "    return None\n",
    "\n",
    "d = dict()\n",
    "print(howSum(100,[5,4],d))"
   ]
  },
  {
   "cell_type": "code",
   "execution_count": null,
   "id": "771c75ae",
   "metadata": {},
   "outputs": [],
   "source": [
    "def bestSum(target, num,d):\n",
    "    if target in d: return d[target]\n",
    "    if target == 0: return []\n",
    "    if target < 0: return None\n",
    "    \n",
    "    shortest = None\n",
    "    for i in num:\n",
    "        remainder = target - i\n",
    "        result = bestSum(remainder, num,d)\n",
    "        if result is not None:\n",
    "            result.append(i)\n",
    "            combination = result\n",
    "            d[target] = result\n",
    "            # if the combination is shorted return the current shortest, update it\n",
    "            if (shortest == None or len(combination) < len(shortest)):\n",
    "                shorted = combination\n",
    "                \n",
    "    d[target] = shorted         \n",
    "    return shortest\n",
    "\n",
    "d = dict()\n",
    "print(bestSum(8,[1,2,3,4,8],d))"
   ]
  },
  {
   "cell_type": "markdown",
   "id": "205320b5",
   "metadata": {},
   "source": [
    "<h1>Tabulaization</h1>"
   ]
  },
  {
   "cell_type": "code",
   "execution_count": 150,
   "id": "63eefaa4",
   "metadata": {},
   "outputs": [
    {
     "name": "stdout",
     "output_type": "stream",
     "text": [
      "0\n",
      "[[[]], None, None, None, None, [[5]], None, None]\n",
      "[[[]], None, None, [[3]], None, [[5]], None, None]\n",
      "[[[]], None, None, [[3]], [[4]], [[5]], None, None]\n",
      "1\n",
      "2\n",
      "3\n",
      "[[[]], None, None, [[3]], [[4]], [[5]], None, None]\n",
      "[[[]], None, None, [[3]], [[4]], [[5]], [[3, 3]], None]\n",
      "[[[]], None, None, [[3]], [[4]], [[5]], [[3, 3]], [[4, 3]]]\n",
      "4\n",
      "[[[]], None, None, [[3]], [[4]], [[5]], [[3, 3]], [[4, 3]]]\n",
      "[[[]], None, None, [[3]], [[4]], [[5]], [[3, 3]], [[3, 4]]]\n",
      "[[[]], None, None, [[3]], [[4]], [[5]], [[3, 3]], [[3, 4]]]\n",
      "5\n",
      "[[[]], None, None, [[3]], [[4]], [[5]], [[3, 3]], [[3, 4]]]\n",
      "[[[]], None, None, [[3]], [[4]], [[5]], [[3, 3]], [[3, 4]]]\n",
      "[[[]], None, None, [[3]], [[4]], [[5]], [[3, 3]], [[3, 4]]]\n",
      "6\n",
      "[[[]], None, None, [[3]], [[4]], [[5]], [[3, 3]], [[3, 4]]]\n",
      "[[[]], None, None, [[3]], [[4]], [[5]], [[3, 3]], [[3, 4]]]\n",
      "[[[]], None, None, [[3]], [[4]], [[5]], [[3, 3]], [[3, 4]]]\n",
      "7\n",
      "[[[]], None, None, [[3]], [[4]], [[5]], [[3, 3]], [[3, 4]]]\n",
      "[[[]], None, None, [[3]], [[4]], [[5]], [[3, 3]], [[3, 4]]]\n",
      "[[[]], None, None, [[3]], [[4]], [[5]], [[3, 3]], [[3, 4]]]\n"
     ]
    },
    {
     "data": {
      "text/plain": [
       "[[3, 4]]"
      ]
     },
     "execution_count": 150,
     "metadata": {},
     "output_type": "execute_result"
    }
   ],
   "source": [
    "import copy\n",
    "def canSum(target,num):\n",
    "    arr = [None]*(target+1)\n",
    "    arr[0] = [[]]\n",
    "    for i in range(target+1):\n",
    "        print(i)\n",
    "        if arr[i] != None:\n",
    "            for j in num:\n",
    "                if i+j <= target:\n",
    "                        arr[i+j] = [[j]+u for u in arr[i]]\n",
    "                print(arr)\n",
    "    \n",
    "    return arr[target]\n",
    "canSum(7,[5,3,4])"
   ]
  },
  {
   "cell_type": "code",
   "execution_count": 132,
   "id": "5f7b1707",
   "metadata": {},
   "outputs": [
    {
     "name": "stdout",
     "output_type": "stream",
     "text": [
      "[[1], [1, 1]]\n"
     ]
    }
   ],
   "source": []
  }
 ],
 "metadata": {
  "kernelspec": {
   "display_name": "Python 3 (ipykernel)",
   "language": "python",
   "name": "python3"
  },
  "language_info": {
   "codemirror_mode": {
    "name": "ipython",
    "version": 3
   },
   "file_extension": ".py",
   "mimetype": "text/x-python",
   "name": "python",
   "nbconvert_exporter": "python",
   "pygments_lexer": "ipython3",
   "version": "3.9.5"
  }
 },
 "nbformat": 4,
 "nbformat_minor": 5
}
