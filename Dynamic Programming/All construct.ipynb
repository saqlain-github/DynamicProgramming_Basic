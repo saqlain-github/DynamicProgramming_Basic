{
 "cells": [
  {
   "cell_type": "code",
   "execution_count": 29,
   "id": "808c53cd",
   "metadata": {},
   "outputs": [
    {
     "name": "stdout",
     "output_type": "stream",
     "text": [
      "[['ab', 'cd', 'ef'], ['ab', 'c', 'def'], ['abc', 'def'], ['abcd', 'ef']]\n"
     ]
    }
   ],
   "source": [
    "def conConst(target,words):\n",
    "    if target == \"\": return [[]]\n",
    "    \n",
    "    output = []\n",
    "    for i in words:\n",
    "        if target.startswith(i) ==  True:\n",
    "            suffix = target.removeprefix(i)\n",
    "            result = conConst(suffix, words)\n",
    "            output = output +  [[i]+x for x in result]\n",
    "    return output\n",
    "\n",
    "print(conConst(\"abcdef\",[\"ab\",\"abc\",\"cd\",\"def\",\"abcd\",\"ef\",\"c\"]))\n",
    "#print(conConst(\"eeeeeeeeeeeeeeeeeeeeeeeeeeef\",[\"e\",\"ee\",\"eee\",\"eeee\",\"eeeee\",\"eeeee\"]))  "
   ]
  },
  {
   "cell_type": "code",
   "execution_count": null,
   "id": "efffc5cb",
   "metadata": {},
   "outputs": [
    {
     "name": "stdout",
     "output_type": "stream",
     "text": [
      "[['abc', 'def']]\n"
     ]
    }
   ],
   "source": [
    "def conConstM(target,words,d):\n",
    "    if target in d: return d[target]\n",
    "    if target == \"\": return [[]]\n",
    "    \n",
    "    output = []\n",
    "    for i in words:\n",
    "        if target.startswith(i) ==  True:\n",
    "            suffix = target.removeprefix(i)\n",
    "            result = conConstM(suffix, words,d)\n",
    "            output += [[i]+x for x in result]\n",
    "       \n",
    "    d[target] = output\n",
    "    return output\n",
    "\n",
    "d =dict()\n",
    "print(conConstM(\"abcdef\",[\"ab\",\"abc\",\"cd\",\"def\",\"abcd\"],d))\n",
    "print(conConstM(\"eeeeeeeeeeeeeeeeeeeeeeeeeee\",[\"e\",\"ee\",\"eee\",\"eeee\",\"eeeee\",\"eeeee\"],d)) "
   ]
  },
  {
   "cell_type": "code",
   "execution_count": 48,
   "id": "8c248c04",
   "metadata": {},
   "outputs": [
    {
     "name": "stdout",
     "output_type": "stream",
     "text": [
      "0\n",
      "[[[]], [], [['ab']], [], [], [], []]\n",
      "[[[]], [], [['ab']], [['abc']], [], [], []]\n",
      "1\n",
      "2\n",
      "[[[]], [], [['ab']], [['abc']], [['cd', 'ab']], [], []]\n",
      "3\n",
      "[[[]], [], [['ab']], [['abc']], [['cd', 'ab']], [], [['def', 'abc']]]\n",
      "4\n",
      "[[[]], [], [['ab']], [['abc']], [['cd', 'ab']], [], [['ef', 'cd', 'ab'], ['def', 'abc']]]\n",
      "5\n",
      "6\n",
      "[['ef', 'cd', 'ab'], ['def', 'abc']]\n",
      "0\n",
      "[[[]], [], [], [], [['purp']], [], []]\n",
      "[[[]], [['p']], [], [], [['purp']], [], []]\n",
      "[[[]], [['p']], [], [], [['purp']], [['purpl']], []]\n",
      "1\n",
      "[[[]], [['p']], [], [['ur', 'p']], [['purp']], [['purpl']], []]\n",
      "2\n",
      "3\n",
      "[[[]], [['p']], [], [['ur', 'p']], [['p', 'ur', 'p'], ['purp']], [['purpl']], []]\n",
      "4\n",
      "[[[]], [['p']], [], [['ur', 'p']], [['p', 'ur', 'p'], ['purp']], [['purpl']], [['le', 'p', 'ur', 'p'], ['le', 'purp']]]\n",
      "5\n",
      "6\n",
      "[['le', 'p', 'ur', 'p'], ['le', 'purp']]\n"
     ]
    }
   ],
   "source": [
    "def countConstT(target,words):\n",
    "    arr = [[]]*(len(target)+1)\n",
    "    arr[0] = [[]]\n",
    "    for i in range(len(target)+1):\n",
    "        print(i)\n",
    "        for word in words:\n",
    "            if target[i:i+len(word)] == word:\n",
    "                #print (target[i:i+len(word)])\n",
    "                arr[i+len(word)] = [[word]+c for c in arr[i]] + arr[i+len(word)]\n",
    "                print(arr)\n",
    "        \n",
    "                  \n",
    "    return arr[len(target)]\n",
    "\n",
    "print(countConstT(\"abcdef\",[\"ab\",\"abc\",\"cd\",\"def\",\"ef\"]))\n",
    "print(countConstT(\"purple\",[\"purp\",\"p\",\"ur\",\"le\",\"purpl\"]))"
   ]
  },
  {
   "cell_type": "code",
   "execution_count": null,
   "id": "1922b9b3",
   "metadata": {},
   "outputs": [],
   "source": []
  }
 ],
 "metadata": {
  "kernelspec": {
   "display_name": "Python 3 (ipykernel)",
   "language": "python",
   "name": "python3"
  },
  "language_info": {
   "codemirror_mode": {
    "name": "ipython",
    "version": 3
   },
   "file_extension": ".py",
   "mimetype": "text/x-python",
   "name": "python",
   "nbconvert_exporter": "python",
   "pygments_lexer": "ipython3",
   "version": "3.9.5"
  }
 },
 "nbformat": 4,
 "nbformat_minor": 5
}
