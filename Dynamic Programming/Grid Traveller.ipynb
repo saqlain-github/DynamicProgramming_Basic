{
 "cells": [
  {
   "cell_type": "code",
   "execution_count": 12,
   "id": "6d8e0941",
   "metadata": {},
   "outputs": [
    {
     "name": "stdout",
     "output_type": "stream",
     "text": [
      "[0, 0, 0, 0]\n",
      "[0, 1, 1, 1]\n",
      "[0, 1, 2, 3]\n",
      "[0, 1, 3, 6]\n",
      "6\n"
     ]
    }
   ],
   "source": [
    "def gridTraveller(m,n):\n",
    "    arr = [ [0]*(n+1) for i in range(m+1)]\n",
    "    arr[1][1] = 1\n",
    "    for i in range(m+1):\n",
    "        for j in range(n+1):\n",
    "            current = arr[i][j]\n",
    "            if j+1 <= n:\n",
    "                arr[i][j+1] += current\n",
    "            if i+1 <= m:\n",
    "                arr[i+1][j] += current\n",
    "        print(arr[i])\n",
    "    \n",
    "    return arr[m][n]\n",
    "    \n",
    "print(gridTraveller(3,3))"
   ]
  }
 ],
 "metadata": {
  "kernelspec": {
   "display_name": "Python 3 (ipykernel)",
   "language": "python",
   "name": "python3"
  },
  "language_info": {
   "codemirror_mode": {
    "name": "ipython",
    "version": 3
   },
   "file_extension": ".py",
   "mimetype": "text/x-python",
   "name": "python",
   "nbconvert_exporter": "python",
   "pygments_lexer": "ipython3",
   "version": "3.9.5"
  }
 },
 "nbformat": 4,
 "nbformat_minor": 5
}
