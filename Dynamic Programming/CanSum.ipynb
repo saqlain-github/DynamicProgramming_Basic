{
 "cells": [
  {
   "cell_type": "code",
   "execution_count": 13,
   "id": "9dc25711",
   "metadata": {},
   "outputs": [
    {
     "name": "stdout",
     "output_type": "stream",
     "text": [
      "0\n",
      "1\n",
      "2\n",
      "3\n",
      "4\n",
      "5\n",
      "6\n",
      "7\n",
      "[True, False, False, True, True, True, True, True]\n"
     ]
    },
    {
     "data": {
      "text/plain": [
       "True"
      ]
     },
     "execution_count": 13,
     "metadata": {},
     "output_type": "execute_result"
    }
   ],
   "source": [
    "def canSum(target,num):\n",
    "    arr = [False]*(target+1)\n",
    "    arr[0] = True\n",
    "    for i in range(target+1):\n",
    "        print(i)\n",
    "        if arr[i] == True:\n",
    "            for j in num:\n",
    "                if i+j <= target:\n",
    "                    arr[i+j] = True\n",
    "    print(arr)\n",
    "    return arr[target]\n",
    "canSum(7,[5,3,4])"
   ]
  }
 ],
 "metadata": {
  "kernelspec": {
   "display_name": "Python 3 (ipykernel)",
   "language": "python",
   "name": "python3"
  },
  "language_info": {
   "codemirror_mode": {
    "name": "ipython",
    "version": 3
   },
   "file_extension": ".py",
   "mimetype": "text/x-python",
   "name": "python",
   "nbconvert_exporter": "python",
   "pygments_lexer": "ipython3",
   "version": "3.9.5"
  }
 },
 "nbformat": 4,
 "nbformat_minor": 5
}
